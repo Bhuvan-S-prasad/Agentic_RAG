{
 "cells": [
  {
   "cell_type": "code",
   "execution_count": 5,
   "id": "2e8fdb5f",
   "metadata": {},
   "outputs": [
    {
     "name": "stderr",
     "output_type": "stream",
     "text": [
      "\n",
      "[notice] A new release of pip is available: 24.3.1 -> 25.1.1\n",
      "[notice] To update, run: python.exe -m pip install --upgrade pip\n"
     ]
    }
   ],
   "source": [
    "!pip install pypdf --quiet"
   ]
  },
  {
   "cell_type": "code",
   "execution_count": 1,
   "id": "ac275b43",
   "metadata": {},
   "outputs": [
    {
     "name": "stdout",
     "output_type": "stream",
     "text": [
      "Note: you may need to restart the kernel to use updated packages.\n"
     ]
    }
   ],
   "source": [
    "%pip install -qU langchain-openai --quiet"
   ]
  },
  {
   "cell_type": "code",
   "execution_count": 4,
   "id": "77722ce6",
   "metadata": {},
   "outputs": [
    {
     "name": "stderr",
     "output_type": "stream",
     "text": [
      "\n",
      "[notice] A new release of pip is available: 24.3.1 -> 25.1.1\n",
      "[notice] To update, run: python.exe -m pip install --upgrade pip\n"
     ]
    }
   ],
   "source": [
    "!pip install json-repair --quiet"
   ]
  },
  {
   "cell_type": "code",
   "execution_count": 2,
   "id": "cac9fd03",
   "metadata": {},
   "outputs": [],
   "source": [
    "import os\n",
    "from dotenv import load_dotenv\n",
    "\n",
    "load_dotenv()\n",
    "\n",
    "api_key = os.getenv(\"OPEN_AI_API\")"
   ]
  },
  {
   "cell_type": "code",
   "execution_count": 5,
   "id": "16e0c550",
   "metadata": {},
   "outputs": [],
   "source": [
    "from langchain_experimental.graph_transformers import LLMGraphTransformer\n",
    "from langchain_core.documents import Document\n",
    "from langchain_google_genai import ChatGoogleGenerativeAI\n",
    "from langchain_openai import OpenAI\n",
    "\n",
    "llm = OpenAI(\n",
    "    model_name=\"gpt-3.5-turbo\",\n",
    "    temperature=0.0,\n",
    "    api_key=api_key,\n",
    ")\n",
    "\n",
    "graph_transformers = LLMGraphTransformer(llm=llm)"
   ]
  },
  {
   "cell_type": "code",
   "execution_count": 6,
   "id": "56276a7d",
   "metadata": {},
   "outputs": [
    {
     "name": "stdout",
     "output_type": "stream",
     "text": [
      "Number of PDF chunks: 3292\n",
      "Sample PDF chunk:\n",
      "THE INDIAN PENAL CODE\n",
      "CHAPTER I INTRODUCTION\n",
      "The Indian Penal Code was drafted by the First Indian Law Commission presided over\n",
      "by Lord Thomas Babington Macaulay. The draft underwent further revision at the hands\n",
      "of well-known jurists, like Sir Barnes Peacock, and was completed in 1850. The Indian\n",
      "Penal Code was passed by the then Legislature on 6 October 1860 and was enacted as\n",
      "Act No. XLV of 1860.\n",
      "Preamble. WHEREAS it is expedient to provide a general\n",
      "Penal Code for India; It is enacted as follows:—\n",
      "COMMENT.—The Indian Penal Code, 1860 (IPC, 1860) exhaustively codiﬁes the law\n",
      "relating to offences with which it deals and the rules of the common law cannot be\n",
      "resorted to for inventing exemptions which are not expressly enacted.1. It is not\n",
      "necessary and indeed not permissible to construe the IPC, 1860 at the present day in\n",
      "accordance with the notions of criminal jurisdiction prevailing at the time when the\n",
      "Code was enacted. The notions relating to this matter have very considerably changed\n",
      "between then and now during nearly a century that has elapsed. It is legitimate to\n",
      "construe the Code with reference to the modern needs, wherever this is permissible,\n",
      "unless there is anything in the Code or in any particular section to indicate the\n",
      "contrary.2.\n",
      "[s 1] Title and extent of operation of the Code.\n",
      "This Act shall be called the Indian Penal Code, and shall 3.[extend to the whole of\n",
      "India 4.[except the State of Jammu and Kashmir].]\n",
      "COMMENT—\n",
      "Before 1860, the English criminal law, as modiﬁed by several Acts,5. was administered\n",
      "in the Presidency towns of Bombay, Calcutta and Madras. But in the mofussil, the\n",
      "Courts were principally guided by the Mohammedan criminal law, the glaring defects of\n",
      "which were partly removed by Regulations of the local Governments. In 1827, the\n",
      "judicial system of Bombay was thoroughly revised and from that time the law which the\n",
      "criminal Courts administered was set forth in a Regulation6. deﬁning offences and\n"
     ]
    }
   ],
   "source": [
    "from langchain_community.document_loaders import PyPDFLoader\n",
    "from langchain_text_splitters import RecursiveCharacterTextSplitter\n",
    "\n",
    "pdf_loader = PyPDFLoader(r\"C:\\Users\\bhuva\\Desktop\\projects_2025\\AI agents\\Agentic_RAG\\IPC.pdf\") \n",
    "pdf_docs = pdf_loader.load()\n",
    "\n",
    "pdf_splitter = RecursiveCharacterTextSplitter(chunk_size=2000, chunk_overlap=250)\n",
    "pdf_chunks = pdf_splitter.split_documents(pdf_docs)\n",
    "\n",
    "print(f\"Number of PDF chunks: {len(pdf_chunks)}\")\n",
    "print(f\"Sample PDF chunk:\\n{pdf_chunks[0].page_content}\")"
   ]
  },
  {
   "cell_type": "code",
   "execution_count": null,
   "id": "fa028704",
   "metadata": {},
   "outputs": [],
   "source": [
    "documents = [Document(page_content=chunk.page_content, metadata=chunk.metadata) for chunk in pdf_chunks]\n",
    "graph_documents = await graph_transformers.aconvert_to_graph_documents(documents)"
   ]
  },
  {
   "cell_type": "code",
   "execution_count": null,
   "id": "b3fd5d5b",
   "metadata": {},
   "outputs": [],
   "source": []
  }
 ],
 "metadata": {
  "kernelspec": {
   "display_name": "venv",
   "language": "python",
   "name": "python3"
  },
  "language_info": {
   "codemirror_mode": {
    "name": "ipython",
    "version": 3
   },
   "file_extension": ".py",
   "mimetype": "text/x-python",
   "name": "python",
   "nbconvert_exporter": "python",
   "pygments_lexer": "ipython3",
   "version": "3.12.8"
  }
 },
 "nbformat": 4,
 "nbformat_minor": 5
}
