{
 "cells": [
  {
   "cell_type": "code",
   "execution_count": 5,
   "id": "9af319aa",
   "metadata": {},
   "outputs": [],
   "source": [
    "from langchain_community.vectorstores import FAISS\n",
    "import os\n",
    "from langchain_google_genai import ChatGoogleGenerativeAI\n",
    "from langchain_google_genai.embeddings import GoogleGenerativeAIEmbeddings\n",
    "\n",
    "gemini_flash = ChatGoogleGenerativeAI(\n",
    "    model=\"models/gemini-1.5-flash\",\n",
    "    temperature=0.2,\n",
    "    top_p=1,\n",
    "    api_key=os.getenv(\"GOOGLE_API_KEY\")\n",
    ")\n",
    "\n",
    "embedding_model = GoogleGenerativeAIEmbeddings(model=\"models/embedding-001\")\n",
    "\n",
    "\n",
    "vectorstore = FAISS.load_local(r\"C:\\Users\\bhuva\\Desktop\\projects_2025\\AI agents\\Agentic_RAG\\cases_vectorstore\", embedding_model, allow_dangerous_deserialization=True)\n",
    "\n"
   ]
  },
  {
   "cell_type": "code",
   "execution_count": 11,
   "id": "ca33b114",
   "metadata": {},
   "outputs": [
    {
     "name": "stdout",
     "output_type": "stream",
     "text": [
      "The case of *Air India Express Ltd. vs Capt. Gurdarshan Kaur Sandhu* likely involves a legal dispute between Air India Express, an Indian low-cost airline, and Captain Gurdarshan Kaur Sandhu, a pilot.  Without access to specific court documents or case details, it's impossible to provide the exact nature of the dispute. However, potential areas of conflict could include:\n",
      "\n",
      "* **Employment disputes:** This is the most likely scenario.  The dispute could involve issues such as wrongful termination, breach of contract, unpaid wages or benefits, discrimination, or harassment.  Pilots often have specific employment contracts with detailed clauses regarding working conditions, pay, and termination procedures.\n",
      "\n",
      "* **Disciplinary action:**  The airline might have taken disciplinary action against the captain, potentially leading to a legal challenge by the captain if she believes the action was unfair or unjustified. This could involve allegations of misconduct, negligence, or violation of company policy.\n",
      "\n",
      "* **Compensation claims:**  The captain might be seeking compensation for damages or losses incurred due to the airline's actions.\n",
      "\n",
      "* **Other legal issues:**  While less likely, other legal issues could be involved, depending on the specifics of the case.\n",
      "\n",
      "To find specific details about this case, you would need to search for court records using the case name and potentially relevant identifying information (case number, court location, etc.).  Legal databases and online court record search engines might provide access to such information, but access may be restricted depending on the jurisdiction and the nature of the case.\n"
     ]
    }
   ],
   "source": [
    "from langchain_core.prompts import ChatPromptTemplate\n",
    "\n",
    "# Question\n",
    "question = \"Air India Express Ltd. vs Capt. Gurdarshan Kaur Sandhu\"\n",
    "retriever = vectorstore.as_retriever()\n",
    "\n",
    "\n",
    "docs = retriever.get_relevant_documents(question)\n",
    "context = \"\\n\\n\".join(doc.page_content for doc in docs)\n",
    "\n",
    "rag_prompt = ChatPromptTemplate.from_messages([\n",
    "    (\"system\", \"\"),\n",
    "    (\"human\", \"{question}\")\n",
    "])\n",
    "\n",
    "chain = rag_prompt | gemini_flash\n",
    "\n",
    "response = chain.invoke({\"context\": context, \"question\": question})\n",
    "print(response.content)\n"
   ]
  },
  {
   "cell_type": "code",
   "execution_count": 12,
   "id": "a6c461c0",
   "metadata": {},
   "outputs": [
    {
     "name": "stdout",
     "output_type": "stream",
     "text": [
      "37. In Bhupinder Kumar v. Angrej Singh, (2009) 8 SCC 766 : (2009) 3 SCC (Civ) 556, this Court\n",
      "held thus :\n",
      "Balbir Singh vs Baldev Singh (D) Through His Lrs on 17 January, 2025\n",
      "Indian Kanoon - http://indiankanoon.org/doc/101809277/ 8\n",
      "\n",
      "3\n",
      "                        W.P. (C) NO.469 OF 2024\n",
      "VIJAY CHETAN LILARAMANI & ANOTHER                    … PETITIONER(S)\n",
      "                                VERSUS\n",
      "UNION OF INDIA AND OTHERS                            … RESPONDENT(S)\n",
      "                                  WITH\n",
      "             CRIMINAL APPEAL NOS. 1650-1652 OF 2025\n",
      "Rakesh Bhanot vs M/S Gurdas Agro Pvt. Ltd on 1 April, 2025\n",
      "Indian Kanoon - http://indiankanoon.org/doc/169033635/ 2\n",
      "\n",
      "September, 2016, passed by the learned Additional Sessions Judge Court No.2, Fatehpur 3 in\n",
      "Sessions Trial No. 06 of 2016, arising out of Case Crime No. 236 of 2015 registered at Police Station\n",
      "Gyanendra Singh @ Raja Singh vs The State Of Uttar Pradesh on 7 March, 2025\n",
      "Indian Kanoon - http://indiankanoon.org/doc/130673268/ 1\n",
      "\n",
      "€€€€€€€.€€€.J. (J.K. MAHESHWARI) €€€€€€€€€€.J. (SANDEEP MEHTA) New Delhi;\n",
      "February 04, 2025.\n",
      "Airports Authority Of India vs Pradip Kumar Banerjee on 4 February, 2025\n",
      "Indian Kanoon - http://indiankanoon.org/doc/85013888/ 13\n"
     ]
    }
   ],
   "source": [
    "print(context)"
   ]
  },
  {
   "cell_type": "code",
   "execution_count": null,
   "id": "a48392cd",
   "metadata": {},
   "outputs": [],
   "source": []
  }
 ],
 "metadata": {
  "kernelspec": {
   "display_name": "venv",
   "language": "python",
   "name": "python3"
  },
  "language_info": {
   "codemirror_mode": {
    "name": "ipython",
    "version": 3
   },
   "file_extension": ".py",
   "mimetype": "text/x-python",
   "name": "python",
   "nbconvert_exporter": "python",
   "pygments_lexer": "ipython3",
   "version": "3.12.8"
  }
 },
 "nbformat": 4,
 "nbformat_minor": 5
}
